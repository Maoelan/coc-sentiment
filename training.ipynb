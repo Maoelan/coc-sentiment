{
 "cells": [
  {
   "cell_type": "code",
   "execution_count": 68,
   "metadata": {},
   "outputs": [],
   "source": [
    "import pandas as pd\n",
    "import numpy as np\n",
    "import matplotlib.pyplot as plt\n",
    "from sklearn.model_selection import train_test_split, GridSearchCV\n",
    "from sklearn.feature_extraction.text import CountVectorizer, TfidfTransformer\n",
    "from sklearn.ensemble import RandomForestClassifier, AdaBoostClassifier, GradientBoostingClassifier\n",
    "from sklearn.svm import SVC\n",
    "from sklearn.metrics import classification_report, accuracy_score\n",
    "from sklearn.preprocessing import LabelEncoder\n",
    "import tensorflow as tf\n",
    "from tensorflow.keras.models import Sequential\n",
    "from tensorflow.keras.layers import Embedding, LSTM, GRU, Dense, Dropout, Bidirectional\n",
    "from tensorflow.keras.callbacks import EarlyStopping\n",
    "from tensorflow.keras.preprocessing.text import Tokenizer\n",
    "from tensorflow.keras.preprocessing.sequence import pad_sequences\n",
    "\n",
    "import warnings\n",
    "warnings.filterwarnings('ignore')"
   ]
  },
  {
   "cell_type": "markdown",
   "metadata": {},
   "source": [
    "### Load Dataset"
   ]
  },
  {
   "cell_type": "code",
   "execution_count": 69,
   "metadata": {},
   "outputs": [
    {
     "data": {
      "text/html": [
       "<div>\n",
       "<style scoped>\n",
       "    .dataframe tbody tr th:only-of-type {\n",
       "        vertical-align: middle;\n",
       "    }\n",
       "\n",
       "    .dataframe tbody tr th {\n",
       "        vertical-align: top;\n",
       "    }\n",
       "\n",
       "    .dataframe thead th {\n",
       "        text-align: right;\n",
       "    }\n",
       "</style>\n",
       "<table border=\"1\" class=\"dataframe\">\n",
       "  <thead>\n",
       "    <tr style=\"text-align: right;\">\n",
       "      <th></th>\n",
       "      <th>content</th>\n",
       "      <th>content_clean</th>\n",
       "      <th>score</th>\n",
       "      <th>label</th>\n",
       "      <th>content_length</th>\n",
       "      <th>content_clean_length</th>\n",
       "    </tr>\n",
       "  </thead>\n",
       "  <tbody>\n",
       "    <tr>\n",
       "      <th>0</th>\n",
       "      <td>It's cool. pretty addicted to it try it! There...</td>\n",
       "      <td>cool pretti addict tri there mani thing</td>\n",
       "      <td>-1</td>\n",
       "      <td>Negative</td>\n",
       "      <td>15</td>\n",
       "      <td>7</td>\n",
       "    </tr>\n",
       "    <tr>\n",
       "      <th>1</th>\n",
       "      <td>fayjzugz GC hi hd for dust be so hd si</td>\n",
       "      <td>fayjzugz gc hi hd dust hd si</td>\n",
       "      <td>1</td>\n",
       "      <td>Positive</td>\n",
       "      <td>10</td>\n",
       "      <td>7</td>\n",
       "    </tr>\n",
       "    <tr>\n",
       "      <th>2</th>\n",
       "      <td>Nice game</td>\n",
       "      <td>nice game</td>\n",
       "      <td>6</td>\n",
       "      <td>Positive</td>\n",
       "      <td>2</td>\n",
       "      <td>2</td>\n",
       "    </tr>\n",
       "    <tr>\n",
       "      <th>3</th>\n",
       "      <td>Unlimited hero event continue. Bd hole do this...</td>\n",
       "      <td>unlimit hero event continu bd hole hero max</td>\n",
       "      <td>0</td>\n",
       "      <td>Neutral</td>\n",
       "      <td>10</td>\n",
       "      <td>8</td>\n",
       "    </tr>\n",
       "    <tr>\n",
       "      <th>4</th>\n",
       "      <td>So nice game</td>\n",
       "      <td>nice game</td>\n",
       "      <td>6</td>\n",
       "      <td>Positive</td>\n",
       "      <td>3</td>\n",
       "      <td>2</td>\n",
       "    </tr>\n",
       "  </tbody>\n",
       "</table>\n",
       "</div>"
      ],
      "text/plain": [
       "                                             content  \\\n",
       "0  It's cool. pretty addicted to it try it! There...   \n",
       "1             fayjzugz GC hi hd for dust be so hd si   \n",
       "2                                          Nice game   \n",
       "3  Unlimited hero event continue. Bd hole do this...   \n",
       "4                                       So nice game   \n",
       "\n",
       "                                 content_clean  score     label  \\\n",
       "0      cool pretti addict tri there mani thing     -1  Negative   \n",
       "1                 fayjzugz gc hi hd dust hd si      1  Positive   \n",
       "2                                    nice game      6  Positive   \n",
       "3  unlimit hero event continu bd hole hero max      0   Neutral   \n",
       "4                                    nice game      6  Positive   \n",
       "\n",
       "   content_length  content_clean_length  \n",
       "0              15                     7  \n",
       "1              10                     7  \n",
       "2               2                     2  \n",
       "3              10                     8  \n",
       "4               3                     2  "
      ]
     },
     "execution_count": 69,
     "metadata": {},
     "output_type": "execute_result"
    }
   ],
   "source": [
    "# Load the dataset\n",
    "data = pd.read_csv('review_data_clean.csv')\n",
    "data.head()"
   ]
  },
  {
   "cell_type": "code",
   "execution_count": 70,
   "metadata": {},
   "outputs": [
    {
     "name": "stdout",
     "output_type": "stream",
     "text": [
      "<class 'pandas.core.frame.DataFrame'>\n",
      "RangeIndex: 14567 entries, 0 to 14566\n",
      "Data columns (total 6 columns):\n",
      " #   Column                Non-Null Count  Dtype \n",
      "---  ------                --------------  ----- \n",
      " 0   content               14567 non-null  object\n",
      " 1   content_clean         14567 non-null  object\n",
      " 2   score                 14567 non-null  int64 \n",
      " 3   label                 14567 non-null  object\n",
      " 4   content_length        14567 non-null  int64 \n",
      " 5   content_clean_length  14567 non-null  int64 \n",
      "dtypes: int64(3), object(3)\n",
      "memory usage: 683.0+ KB\n"
     ]
    }
   ],
   "source": [
    "data.info()"
   ]
  },
  {
   "cell_type": "code",
   "execution_count": 71,
   "metadata": {},
   "outputs": [
    {
     "data": {
      "text/html": [
       "<div>\n",
       "<style scoped>\n",
       "    .dataframe tbody tr th:only-of-type {\n",
       "        vertical-align: middle;\n",
       "    }\n",
       "\n",
       "    .dataframe tbody tr th {\n",
       "        vertical-align: top;\n",
       "    }\n",
       "\n",
       "    .dataframe thead th {\n",
       "        text-align: right;\n",
       "    }\n",
       "</style>\n",
       "<table border=\"1\" class=\"dataframe\">\n",
       "  <thead>\n",
       "    <tr style=\"text-align: right;\">\n",
       "      <th></th>\n",
       "      <th>content_clean</th>\n",
       "      <th>label</th>\n",
       "    </tr>\n",
       "  </thead>\n",
       "  <tbody>\n",
       "    <tr>\n",
       "      <th>0</th>\n",
       "      <td>cool pretti addict tri there mani thing</td>\n",
       "      <td>Negative</td>\n",
       "    </tr>\n",
       "    <tr>\n",
       "      <th>1</th>\n",
       "      <td>fayjzugz gc hi hd dust hd si</td>\n",
       "      <td>Positive</td>\n",
       "    </tr>\n",
       "    <tr>\n",
       "      <th>2</th>\n",
       "      <td>nice game</td>\n",
       "      <td>Positive</td>\n",
       "    </tr>\n",
       "    <tr>\n",
       "      <th>3</th>\n",
       "      <td>unlimit hero event continu bd hole hero max</td>\n",
       "      <td>Neutral</td>\n",
       "    </tr>\n",
       "    <tr>\n",
       "      <th>4</th>\n",
       "      <td>nice game</td>\n",
       "      <td>Positive</td>\n",
       "    </tr>\n",
       "  </tbody>\n",
       "</table>\n",
       "</div>"
      ],
      "text/plain": [
       "                                 content_clean     label\n",
       "0      cool pretti addict tri there mani thing  Negative\n",
       "1                 fayjzugz gc hi hd dust hd si  Positive\n",
       "2                                    nice game  Positive\n",
       "3  unlimit hero event continu bd hole hero max   Neutral\n",
       "4                                    nice game  Positive"
      ]
     },
     "execution_count": 71,
     "metadata": {},
     "output_type": "execute_result"
    }
   ],
   "source": [
    "# Menghapus feature yang tidak diperlukan\n",
    "data.drop(['content', 'content_length', 'score','content_clean_length'], axis=1, inplace=True)\n",
    "data.head()"
   ]
  },
  {
   "cell_type": "markdown",
   "metadata": {},
   "source": [
    "### Preprocessing"
   ]
  },
  {
   "cell_type": "code",
   "execution_count": 72,
   "metadata": {},
   "outputs": [],
   "source": [
    "x = data['content_clean'].values\n",
    "y = data['label'].values"
   ]
  },
  {
   "cell_type": "code",
   "execution_count": 73,
   "metadata": {},
   "outputs": [],
   "source": [
    "# Split data menjadi test dan train\n",
    "review_train, review_test, label_train, label_test = train_test_split(x, y, test_size=0.2)"
   ]
  },
  {
   "cell_type": "code",
   "execution_count": 74,
   "metadata": {},
   "outputs": [],
   "source": [
    "# Tokenisasi\n",
    "review_train_texts = [' '.join(review.split()) for review in review_train]\n",
    "review_test_texts = [' '.join(review.split()) for review in review_test]"
   ]
  },
  {
   "cell_type": "code",
   "execution_count": 75,
   "metadata": {},
   "outputs": [],
   "source": [
    "# Menggunakan CountVectorizer\n",
    "count_vectorizer = CountVectorizer(max_features=200)\n",
    "X_train_counts = count_vectorizer.fit_transform(review_train_texts)\n",
    "X_test_counts = count_vectorizer.transform(review_test_texts)\n",
    "\n",
    "# Menggunakan TF-IDF Transformer\n",
    "tfidf_transformer = TfidfTransformer()\n",
    "X_train_tfidf = tfidf_transformer.fit_transform(X_train_counts)\n",
    "X_test_tfidf = tfidf_transformer.transform(X_test_counts)\n"
   ]
  },
  {
   "cell_type": "code",
   "execution_count": 76,
   "metadata": {},
   "outputs": [],
   "source": [
    "# Menghitung rata-rata vektor\n",
    "def get_average_vector(tokens_list, vectorizer):\n",
    "    vectors = vectorizer.transform([' '.join(tokens) for tokens in tokens_list])\n",
    "    avg_vec = np.mean(vectors.toarray(), axis=0)\n",
    "    return avg_vec\n",
    "\n",
    "# Representasi token teks\n",
    "review_train_tokens = [tokens.split() for tokens in review_train_texts]\n",
    "review_test_tokens = [tokens.split() for tokens in review_test_texts]\n",
    "\n",
    "# Mendapatkan vektor rata-rata\n",
    "X_train_vectorized = get_average_vector(review_train_tokens, count_vectorizer)\n",
    "X_test_vectorized = get_average_vector(review_test_tokens, count_vectorizer)"
   ]
  },
  {
   "cell_type": "markdown",
   "metadata": {},
   "source": [
    "### Modelling & Training"
   ]
  },
  {
   "cell_type": "code",
   "execution_count": 77,
   "metadata": {},
   "outputs": [],
   "source": [
    "# Function untuk training model\n",
    "def train_and_evaluate(model, X_train, y_train, X_test, y_test, model_name):\n",
    "    model.fit(X_train, y_train)\n",
    "    \n",
    "    train_accuracy = accuracy_score(y_train, model.predict(X_train))\n",
    "    test_accuracy = accuracy_score(y_test, model.predict(X_test))\n",
    "    \n",
    "    print(f\"Model: {model_name}\")\n",
    "    print(f\"Train Accuracy: {train_accuracy}\")\n",
    "    print(f\"Test Accuracy: {test_accuracy}\")\n",
    "    print(\"Classification Report:\")\n",
    "    print(classification_report(y_test, model.predict(X_test)))\n",
    "    print(\"\\n\")\n",
    "\n",
    "# Definisikan model machine learning yang akan digunakan\n",
    "models = {\n",
    "    \"RandomForest\": RandomForestClassifier(),\n",
    "    \"SVM\": SVC(),\n",
    "    \"AdaBoost\": AdaBoostClassifier(),\n",
    "    \"GradientBoosting\": GradientBoostingClassifier()\n",
    "}\n",
    "\n",
    "# Definisikan grid parameter untuk tuning masing-masing model\n",
    "param_grids = {\n",
    "    \"RandomForest\": {'n_estimators': [100, 200, 300], 'max_depth': [None, 10, 20]},\n",
    "    \"SVM\": {'C': [1, 10, 100], 'gamma': ['scale', 'auto']},\n",
    "    \"AdaBoost\": {'n_estimators': [50, 100, 200], 'learning_rate': [0.01, 0.1, 1.0]},\n",
    "    \"GradientBoosting\": {'n_estimators': [50, 100, 200], 'learning_rate': [0.01, 0.1, 1.0]}\n",
    "}"
   ]
  },
  {
   "cell_type": "code",
   "execution_count": 78,
   "metadata": {},
   "outputs": [
    {
     "name": "stdout",
     "output_type": "stream",
     "text": [
      "=== Evaluasi dengan TF-IDF ===\n",
      "Fitting 5 folds for each of 9 candidates, totalling 45 fits\n",
      "Model: RandomForest\n",
      "Train Accuracy: 0.9825795932377929\n",
      "Test Accuracy: 0.9547014413177762\n",
      "Classification Report:\n",
      "              precision    recall  f1-score   support\n",
      "\n",
      "    Negative       0.94      0.62      0.75       197\n",
      "     Neutral       0.92      0.96      0.94       678\n",
      "    Positive       0.97      0.98      0.98      2039\n",
      "\n",
      "    accuracy                           0.95      2914\n",
      "   macro avg       0.94      0.86      0.89      2914\n",
      "weighted avg       0.95      0.95      0.95      2914\n",
      "\n",
      "\n",
      "\n",
      "Best parameters: {'max_depth': None, 'n_estimators': 100}\n",
      "\n",
      "\n",
      "Fitting 5 folds for each of 6 candidates, totalling 30 fits\n",
      "Model: SVM\n",
      "Train Accuracy: 0.9485969278297434\n",
      "Test Accuracy: 0.955044612216884\n",
      "Classification Report:\n",
      "              precision    recall  f1-score   support\n",
      "\n",
      "    Negative       0.87      0.66      0.75       197\n",
      "     Neutral       0.91      0.96      0.93       678\n",
      "    Positive       0.98      0.98      0.98      2039\n",
      "\n",
      "    accuracy                           0.96      2914\n",
      "   macro avg       0.92      0.87      0.89      2914\n",
      "weighted avg       0.95      0.96      0.95      2914\n",
      "\n",
      "\n",
      "\n",
      "Best parameters: {'C': 100, 'gamma': 'auto'}\n",
      "\n",
      "\n",
      "Fitting 5 folds for each of 9 candidates, totalling 45 fits\n",
      "Model: AdaBoost\n",
      "Train Accuracy: 0.9381275208100919\n",
      "Test Accuracy: 0.9402882635552505\n",
      "Classification Report:\n",
      "              precision    recall  f1-score   support\n",
      "\n",
      "    Negative       0.82      0.58      0.68       197\n",
      "     Neutral       0.87      0.96      0.91       678\n",
      "    Positive       0.97      0.97      0.97      2039\n",
      "\n",
      "    accuracy                           0.94      2914\n",
      "   macro avg       0.89      0.84      0.86      2914\n",
      "weighted avg       0.94      0.94      0.94      2914\n",
      "\n",
      "\n",
      "\n",
      "Best parameters: {'learning_rate': 1.0, 'n_estimators': 100}\n",
      "\n",
      "\n",
      "Fitting 5 folds for each of 9 candidates, totalling 45 fits\n",
      "Model: GradientBoosting\n",
      "Train Accuracy: 0.959066334849395\n",
      "Test Accuracy: 0.9519560741249142\n",
      "Classification Report:\n",
      "              precision    recall  f1-score   support\n",
      "\n",
      "    Negative       0.89      0.64      0.75       197\n",
      "     Neutral       0.90      0.97      0.93       678\n",
      "    Positive       0.98      0.98      0.98      2039\n",
      "\n",
      "    accuracy                           0.95      2914\n",
      "   macro avg       0.92      0.86      0.89      2914\n",
      "weighted avg       0.95      0.95      0.95      2914\n",
      "\n",
      "\n",
      "\n",
      "Best parameters: {'learning_rate': 0.1, 'n_estimators': 200}\n",
      "\n",
      "\n"
     ]
    }
   ],
   "source": [
    "# Evaluasi dengan TF-IDF\n",
    "print(\"=== Evaluasi dengan TF-IDF ===\")\n",
    "best_models_tfidf = {}\n",
    "for model_name, model in models.items():\n",
    "    grid_search = GridSearchCV(model, param_grid=param_grids[model_name], cv=5, scoring='accuracy', verbose=1, n_jobs=1)\n",
    "    grid_search.fit(X_train_tfidf, label_train)\n",
    "    \n",
    "    best_model = grid_search.best_estimator_\n",
    "    best_models_tfidf[model_name] = best_model\n",
    "    \n",
    "    train_and_evaluate(best_model, X_train_tfidf, label_train, X_test_tfidf, label_test, model_name)\n",
    "    print(f\"Best parameters: {grid_search.best_params_}\")\n",
    "    print(\"\\n\")"
   ]
  },
  {
   "cell_type": "code",
   "execution_count": 79,
   "metadata": {},
   "outputs": [
    {
     "name": "stdout",
     "output_type": "stream",
     "text": [
      "=== Evaluasi dengan CountVectorizer ===\n",
      "Fitting 5 folds for each of 9 candidates, totalling 45 fits\n",
      "Model: RandomForest\n",
      "Train Accuracy: 0.9828370376727024\n",
      "Test Accuracy: 0.9509265614275909\n",
      "Classification Report:\n",
      "              precision    recall  f1-score   support\n",
      "\n",
      "    Negative       0.88      0.61      0.72       197\n",
      "     Neutral       0.91      0.96      0.93       678\n",
      "    Positive       0.97      0.98      0.98      2039\n",
      "\n",
      "    accuracy                           0.95      2914\n",
      "   macro avg       0.92      0.85      0.88      2914\n",
      "weighted avg       0.95      0.95      0.95      2914\n",
      "\n",
      "\n",
      "\n",
      "Best parameters: {'max_depth': None, 'n_estimators': 300}\n",
      "\n",
      "\n",
      "Fitting 5 folds for each of 6 candidates, totalling 30 fits\n",
      "Model: SVM\n",
      "Train Accuracy: 0.9600102977773963\n",
      "Test Accuracy: 0.9601921757035004\n",
      "Classification Report:\n",
      "              precision    recall  f1-score   support\n",
      "\n",
      "    Negative       0.90      0.70      0.78       197\n",
      "     Neutral       0.91      0.97      0.94       678\n",
      "    Positive       0.98      0.98      0.98      2039\n",
      "\n",
      "    accuracy                           0.96      2914\n",
      "   macro avg       0.93      0.88      0.90      2914\n",
      "weighted avg       0.96      0.96      0.96      2914\n",
      "\n",
      "\n",
      "\n",
      "Best parameters: {'C': 100, 'gamma': 'auto'}\n",
      "\n",
      "\n",
      "Fitting 5 folds for each of 9 candidates, totalling 45 fits\n",
      "Model: AdaBoost\n",
      "Train Accuracy: 0.9393289281730026\n",
      "Test Accuracy: 0.9327385037748799\n",
      "Classification Report:\n",
      "              precision    recall  f1-score   support\n",
      "\n",
      "    Negative       0.74      0.50      0.60       197\n",
      "     Neutral       0.85      0.96      0.90       678\n",
      "    Positive       0.98      0.97      0.97      2039\n",
      "\n",
      "    accuracy                           0.93      2914\n",
      "   macro avg       0.86      0.81      0.82      2914\n",
      "weighted avg       0.93      0.93      0.93      2914\n",
      "\n",
      "\n",
      "\n",
      "Best parameters: {'learning_rate': 1.0, 'n_estimators': 200}\n",
      "\n",
      "\n",
      "Fitting 5 folds for each of 9 candidates, totalling 45 fits\n",
      "Model: GradientBoosting\n",
      "Train Accuracy: 0.9579507422981206\n",
      "Test Accuracy: 0.956417295813315\n",
      "Classification Report:\n",
      "              precision    recall  f1-score   support\n",
      "\n",
      "    Negative       0.88      0.66      0.76       197\n",
      "     Neutral       0.91      0.97      0.94       678\n",
      "    Positive       0.98      0.98      0.98      2039\n",
      "\n",
      "    accuracy                           0.96      2914\n",
      "   macro avg       0.92      0.87      0.89      2914\n",
      "weighted avg       0.96      0.96      0.95      2914\n",
      "\n",
      "\n",
      "\n",
      "Best parameters: {'learning_rate': 0.1, 'n_estimators': 200}\n",
      "\n",
      "\n"
     ]
    }
   ],
   "source": [
    "# Evaluasi dengan CountVectorizer\n",
    "print(\"=== Evaluasi dengan CountVectorizer ===\")\n",
    "best_models_counts = {}\n",
    "for model_name, model in models.items():\n",
    "    grid_search = GridSearchCV(model, param_grid=param_grids[model_name], cv=5, scoring='accuracy', verbose=1, n_jobs=1)\n",
    "    grid_search.fit(X_train_counts, label_train)\n",
    "    \n",
    "    best_model = grid_search.best_estimator_\n",
    "    best_models_counts[model_name] = best_model\n",
    "    \n",
    "    train_and_evaluate(best_model, X_train_counts, label_train, X_test_counts, label_test, model_name)\n",
    "    print(f\"Best parameters: {grid_search.best_params_}\")\n",
    "    print(\"\\n\")"
   ]
  },
  {
   "cell_type": "code",
   "execution_count": 89,
   "metadata": {},
   "outputs": [],
   "source": [
    "# Tokenisasi dan padding\n",
    "vocab_size = 5000\n",
    "embedding_dim = 16\n",
    "max_len = 200\n",
    "\n",
    "tokenizer = Tokenizer(num_words=200, oov_token='<OOV>')\n",
    "tokenizer.fit_on_texts(review_train_texts)\n",
    "\n",
    "X_train_seq = tokenizer.texts_to_sequences(review_train_texts)\n",
    "X_train_pad = pad_sequences(X_train_seq, maxlen=max_len, padding='post')\n",
    "\n",
    "X_test_seq = tokenizer.texts_to_sequences(review_test_texts)\n",
    "X_test_pad = pad_sequences(X_test_seq, maxlen=max_len, padding='post')\n",
    "\n",
    "# Merubah label yang sebelumnya str menjadi int\n",
    "label_encoder = LabelEncoder()\n",
    "label_train_encoded = label_encoder.fit_transform(label_train)\n",
    "label_test_encoded = label_encoder.transform(label_test)"
   ]
  },
  {
   "cell_type": "code",
   "execution_count": 90,
   "metadata": {},
   "outputs": [],
   "source": [
    "# Definisi model LSTM\n",
    "model_lstm = Sequential([\n",
    "    Embedding(vocab_size, embedding_dim, input_length=max_len),\n",
    "    Bidirectional(LSTM(128, return_sequences=True)),\n",
    "    Dropout(0.2),\n",
    "    Bidirectional(LSTM(32)),\n",
    "    Dense(64, activation='relu'),\n",
    "    Dropout(0.3),\n",
    "    Dense(3, activation='softmax')\n",
    "])\n",
    "\n",
    "# Definisi model GRU\n",
    "model_gru = Sequential([\n",
    "    Embedding(vocab_size, embedding_dim, input_length=max_len),\n",
    "    Bidirectional(GRU(64)),\n",
    "    Dropout(0.2),\n",
    "    Dense(64, activation='relu'),\n",
    "    Dropout(0.3),\n",
    "    Dense(5, activation='softmax')\n",
    "])"
   ]
  },
  {
   "cell_type": "code",
   "execution_count": 91,
   "metadata": {},
   "outputs": [],
   "source": [
    "# Compile model LSTM dan GRU\n",
    "model_lstm.compile(optimizer='adam', loss='sparse_categorical_crossentropy', metrics=['accuracy'])\n",
    "model_gru.compile(optimizer='adam', loss='sparse_categorical_crossentropy', metrics=['accuracy'])"
   ]
  },
  {
   "cell_type": "code",
   "execution_count": 92,
   "metadata": {},
   "outputs": [],
   "source": [
    "# Callback untuk early stopping\n",
    "class EarlyStoppingWithWarning(EarlyStopping):\n",
    "    def on_train_end(self, logs=None):\n",
    "        if self.stopped_epoch > 0:\n",
    "            print(f\"\\nTraining stopped early at epoch {self.stopped_epoch + 1}.\")\n",
    "        else:\n",
    "            print(\"\\nTraining completed without early stopping.\")"
   ]
  },
  {
   "cell_type": "code",
   "execution_count": 93,
   "metadata": {},
   "outputs": [],
   "source": [
    "# Early stopping\n",
    "early_stopping = EarlyStoppingWithWarning(monitor='val_loss', patience=3, restore_best_weights=True)"
   ]
  },
  {
   "cell_type": "code",
   "execution_count": 94,
   "metadata": {},
   "outputs": [
    {
     "name": "stdout",
     "output_type": "stream",
     "text": [
      "Epoch 1/20\n",
      "365/365 [==============================] - 293s 750ms/step - loss: 0.4591 - accuracy: 0.8297 - val_loss: 0.2340 - val_accuracy: 0.9159\n",
      "Epoch 2/20\n",
      "365/365 [==============================] - 270s 739ms/step - loss: 0.2234 - accuracy: 0.9295 - val_loss: 0.1654 - val_accuracy: 0.9533\n",
      "Epoch 3/20\n",
      "365/365 [==============================] - 270s 741ms/step - loss: 0.1924 - accuracy: 0.9438 - val_loss: 0.1533 - val_accuracy: 0.9537\n",
      "Epoch 4/20\n",
      "365/365 [==============================] - 270s 739ms/step - loss: 0.1791 - accuracy: 0.9466 - val_loss: 0.1617 - val_accuracy: 0.9530\n",
      "Epoch 5/20\n",
      "365/365 [==============================] - 297s 813ms/step - loss: 0.1880 - accuracy: 0.9420 - val_loss: 0.1684 - val_accuracy: 0.9465\n",
      "Epoch 6/20\n",
      "365/365 [==============================] - 286s 784ms/step - loss: 0.1777 - accuracy: 0.9466 - val_loss: 0.1646 - val_accuracy: 0.9499\n",
      "\n",
      "Training stopped early at epoch 6.\n"
     ]
    }
   ],
   "source": [
    "# Train LSTM model\n",
    "history_nn = model_lstm.fit(X_train_pad, label_train_encoded,\n",
    "                            epochs=20, batch_size=32,\n",
    "                            validation_data=(X_test_pad, label_test_encoded),\n",
    "                            callbacks=[early_stopping])"
   ]
  },
  {
   "cell_type": "code",
   "execution_count": 95,
   "metadata": {},
   "outputs": [
    {
     "name": "stdout",
     "output_type": "stream",
     "text": [
      "Epoch 1/20\n",
      "365/365 [==============================] - 105s 263ms/step - loss: 0.4917 - accuracy: 0.8404 - val_loss: 0.2074 - val_accuracy: 0.9324\n",
      "Epoch 2/20\n",
      "365/365 [==============================] - 64s 176ms/step - loss: 0.2115 - accuracy: 0.9383 - val_loss: 0.1624 - val_accuracy: 0.9506\n",
      "Epoch 3/20\n",
      "365/365 [==============================] - 64s 176ms/step - loss: 0.1874 - accuracy: 0.9456 - val_loss: 0.1643 - val_accuracy: 0.9533\n",
      "Epoch 4/20\n",
      "365/365 [==============================] - 62s 170ms/step - loss: 0.1780 - accuracy: 0.9465 - val_loss: 0.1591 - val_accuracy: 0.9550\n",
      "Epoch 5/20\n",
      "365/365 [==============================] - 64s 174ms/step - loss: 0.1752 - accuracy: 0.9490 - val_loss: 0.1564 - val_accuracy: 0.9533\n",
      "Epoch 6/20\n",
      "365/365 [==============================] - 64s 177ms/step - loss: 0.1706 - accuracy: 0.9499 - val_loss: 0.1562 - val_accuracy: 0.9526\n",
      "Epoch 7/20\n",
      "365/365 [==============================] - 66s 181ms/step - loss: 0.1693 - accuracy: 0.9487 - val_loss: 0.1526 - val_accuracy: 0.9554\n",
      "Epoch 8/20\n",
      "365/365 [==============================] - 66s 181ms/step - loss: 0.1658 - accuracy: 0.9487 - val_loss: 0.1564 - val_accuracy: 0.9557\n",
      "Epoch 9/20\n",
      "365/365 [==============================] - 66s 182ms/step - loss: 0.1685 - accuracy: 0.9494 - val_loss: 0.1560 - val_accuracy: 0.9540\n",
      "Epoch 10/20\n",
      "365/365 [==============================] - 66s 180ms/step - loss: 0.1617 - accuracy: 0.9506 - val_loss: 0.1540 - val_accuracy: 0.9554\n",
      "\n",
      "Training stopped early at epoch 10.\n"
     ]
    }
   ],
   "source": [
    "# Train GRU model\n",
    "history_gru = model_gru.fit(X_train_pad, label_train_encoded,\n",
    "                            epochs=20, batch_size=32,\n",
    "                            validation_data=(X_test_pad, label_test_encoded),\n",
    "                            callbacks=[early_stopping])"
   ]
  },
  {
   "cell_type": "code",
   "execution_count": 96,
   "metadata": {},
   "outputs": [
    {
     "data": {
      "image/png": "[encoded data removed]",
      "text/plain": [
       "<Figure size 1200x600 with 2 Axes>"
      ]
     },
     "metadata": {},
     "output_type": "display_data"
    }
   ],
   "source": [
    "# Plot hasil training LSTM dan GRU\n",
    "plt.figure(figsize=(12, 6))\n",
    "\n",
    "plt.subplot(1, 2, 1)\n",
    "plt.plot(history_nn.history['accuracy'], label='Train Accuracy')\n",
    "plt.plot(history_nn.history['val_accuracy'], label='Val Accuracy')\n",
    "plt.title('LSTM Model Training')\n",
    "plt.xlabel('Epoch')\n",
    "plt.ylabel('Accuracy')\n",
    "plt.legend()\n",
    "\n",
    "plt.subplot(1, 2, 2)\n",
    "plt.plot(history_gru.history['accuracy'], label='Train Accuracy')\n",
    "plt.plot(history_gru.history['val_accuracy'], label='Val Accuracy')\n",
    "plt.title('GRU Model Training')\n",
    "plt.xlabel('Epoch')\n",
    "plt.ylabel('Accuracy')\n",
    "plt.legend()\n",
    "\n",
    "plt.tight_layout()\n",
    "plt.show()"
   ]
  },
  {
   "cell_type": "markdown",
   "metadata": {},
   "source": [
    "### Visualisasi Perbandingan"
   ]
  },
  {
   "cell_type": "code",
   "execution_count": 158,
   "metadata": {},
   "outputs": [
    {
     "data": {
      "image/png": "[encoded data removed]",
      "text/plain": [
       "<Figure size 1200x600 with 1 Axes>"
      ]
     },
     "metadata": {},
     "output_type": "display_data"
    }
   ],
   "source": [
    "# Function untuk mengambil accuracy model\n",
    "def collect_accuracy_data(model, X_train, y_train, X_test, y_test):\n",
    "    train_accuracy = accuracy_score(y_train, model.predict(X_train))\n",
    "    test_accuracy = accuracy_score(y_test, model.predict(X_test))\n",
    "    return train_accuracy, test_accuracy\n",
    "\n",
    "# Mengambil accuracy dari model ML tradisional\n",
    "accuracy_data = {\n",
    "    \"Model\": [],\n",
    "    \"Train Accuracy\": [],\n",
    "    \"Test Accuracy\": []\n",
    "}\n",
    "\n",
    "for model_name, model in best_models_tfidf.items():\n",
    "    train_acc, test_acc = collect_accuracy_data(model, X_train_tfidf, label_train, X_test_tfidf, label_test)\n",
    "    accuracy_data[\"Model\"].append(f\"{model_name} (TF-IDF)\")\n",
    "    accuracy_data[\"Train Accuracy\"].append(train_acc)\n",
    "    accuracy_data[\"Test Accuracy\"].append(test_acc)\n",
    "\n",
    "for model_name, model in best_models_counts.items():\n",
    "    train_acc, test_acc = collect_accuracy_data(model, X_train_counts, label_train, X_test_counts, label_test)\n",
    "    accuracy_data[\"Model\"].append(f\"{model_name} (CountVectorizer)\")\n",
    "    accuracy_data[\"Train Accuracy\"].append(train_acc)\n",
    "    accuracy_data[\"Test Accuracy\"].append(test_acc)\n",
    "\n",
    "# Mengambil accuracy dari model LSTM dan GRU\n",
    "accuracy_data[\"Model\"].append(\"LSTM\")\n",
    "accuracy_data[\"Train Accuracy\"].append(history_nn.history['accuracy'][-1])\n",
    "accuracy_data[\"Test Accuracy\"].append(history_nn.history['val_accuracy'][-1])\n",
    "\n",
    "accuracy_data[\"Model\"].append(\"GRU\")\n",
    "accuracy_data[\"Train Accuracy\"].append(history_gru.history['accuracy'][-1])\n",
    "accuracy_data[\"Test Accuracy\"].append(history_gru.history['val_accuracy'][-1])\n",
    "\n",
    "# Mengubah accuracy_data menjadi dataframe\n",
    "accuracy_df = pd.DataFrame(accuracy_data)\n",
    "\n",
    "# Plot visualisasi perbandingan\n",
    "plt.figure(figsize=(12, 6))\n",
    "bar_width = 0.35\n",
    "index = np.arange(len(accuracy_df))\n",
    "\n",
    "bar1 = plt.bar(index, accuracy_df['Train Accuracy'], bar_width, label='Train Accuracy')\n",
    "bar2 = plt.bar(index + bar_width, accuracy_df['Test Accuracy'], bar_width, label='Test Accuracy')\n",
    "\n",
    "plt.xlabel('Model')\n",
    "plt.ylabel('Accuracy')\n",
    "plt.title('Comparison of Model Accuracy')\n",
    "plt.xticks(index + bar_width / 2, accuracy_df['Model'], rotation=45)\n",
    "plt.legend()\n",
    "\n",
    "plt.tight_layout()\n",
    "plt.show()"
   ]
  },
  {
   "cell_type": "markdown",
   "metadata": {},
   "source": [
    "### Prediksi menggunakan model terbaik"
   ]
  },
  {
   "cell_type": "code",
   "execution_count": 157,
   "metadata": {},
   "outputs": [
    {
     "name": "stdout",
     "output_type": "stream",
     "text": [
      "Original Text 1: Great experience, especially with clan an global chat hahaha, highly recommended!\n",
      "Prediction - ['Positive']\n",
      "\n",
      "Original Text 2: Comeback just for nostalgia.\n",
      "Prediction - ['Neutral']\n",
      "\n",
      "Original Text 3: This game sucks, I hate it, pay 2 win as hell\n",
      "Prediction - ['Negative']\n",
      "\n"
     ]
    }
   ],
   "source": [
    "from cleaning import preprocessing_text\n",
    "\n",
    "new_texts = [\n",
    "    \"Great experience, especially with clan an global chat hahaha, highly recommended!\",\n",
    "    \"Comeback just for nostalgia.\",\n",
    "    \"This game sucks, I hate it, pay 2 win as hell\"\n",
    "]\n",
    "\n",
    "predictions = []\n",
    "\n",
    "for new_text in new_texts:\n",
    "    cleaned_text = preprocessing_text(new_text)\n",
    "\n",
    "    X_new_counts = count_vectorizer.transform([cleaned_text])\n",
    "    X_new_tfidf = tfidf_transformer.transform(X_new_counts)\n",
    "\n",
    "    rf_prediction = best_models_tfidf['RandomForest'].predict(X_new_tfidf)\n",
    "\n",
    "    predictions.append(rf_prediction)\n",
    "\n",
    "for i, prediction in enumerate(predictions):\n",
    "    original_text = new_texts[i]\n",
    "    print(f\"Original Text {i+1}: {original_text}\")\n",
    "    print(f\"Prediction - {prediction}\")\n",
    "    print()"
   ]
  }
 ],
 "metadata": {
  "kernelspec": {
   "display_name": "cuda_env",
   "language": "python",
   "name": "python3"
  },
  "language_info": {
   "codemirror_mode": {
    "name": "ipython",
    "version": 3
   },
   "file_extension": ".py",
   "mimetype": "text/x-python",
   "name": "python",
   "nbconvert_exporter": "python",
   "pygments_lexer": "ipython3",
   "version": "3.7.16"
  }
 },
 "nbformat": 4,
 "nbformat_minor": 2
}
